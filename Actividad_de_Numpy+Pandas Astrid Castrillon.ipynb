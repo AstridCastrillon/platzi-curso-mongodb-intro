{
  "nbformat": 4,
  "nbformat_minor": 0,
  "metadata": {
    "colab": {
      "provenance": [],
      "include_colab_link": true
    },
    "kernelspec": {
      "name": "python3",
      "display_name": "Python 3"
    },
    "language_info": {
      "name": "python"
    }
  },
  "cells": [
    {
      "cell_type": "markdown",
      "metadata": {
        "id": "view-in-github",
        "colab_type": "text"
      },
      "source": [
        "<a href=\"https://colab.research.google.com/github/AstridCastrillon/platzi-curso-mongodb-intro/blob/master/Actividad_de_Numpy%2BPandas%20Astrid%20Castrillon.ipynb\" target=\"_parent\"><img src=\"https://colab.research.google.com/assets/colab-badge.svg\" alt=\"Open In Colab\"/></a>"
      ]
    },
    {
      "cell_type": "markdown",
      "source": [
        "# **¡Querido estudiante!**\n",
        "\n",
        "Antes de comenzar a realizar este ejercicio, crea una copia y colócale tu nombre. Esto para que luego compartas el link en el aula y el profesor pueda identificar fácilmente a quién pertenece la actividad resuelta.\n",
        "\n",
        "**Bienvenido (a) a este proceso de aprendizaje**"
      ],
      "metadata": {
        "id": "Mg1IKxXSvcsd"
      }
    },
    {
      "cell_type": "markdown",
      "metadata": {
        "id": "tjvAVt7Fqp0e"
      },
      "source": [
        "1. A partir de la lista L1=['abc', 123, [456, 'd', 'e', 'f', [7, 8, 9],['g','h','i']], 10, 'j', 'k'], llegar a L2=[['abc', 456, 7], 'def', [8, 9], 'g', 'h', [10, 'j', 'k']] usando métodos de indexación.\n"
      ]
    },
    {
      "cell_type": "markdown",
      "source": [],
      "metadata": {
        "id": "N9c9k-Xgyk5E"
      }
    },
    {
      "cell_type": "markdown",
      "metadata": {
        "id": "tvsu1FtsvC3z"
      },
      "source": [
        "2. Usando el conjunto de datos de Wine (https://gist.githubusercontent.com/tijptjik/9408623/raw/b237fa5848349a14a14e5d4107dc7897c21951f5/wine.csv), extrae lo siguiente de cada columna:\n",
        "\n",
        "* Media\n",
        "* Desviación estándar\n",
        "* Rango\n",
        "* Mediana\n",
        "\n",
        "Luego, filtra el dataset siguiendo las siguientes instrucciones:\n",
        "* D1= La primera y cuarta columnas\n",
        "* D2= Las dos primeras y las dos últimas columnas\n",
        "\n",
        "Finalmente, imprime para todas las columnas, todos los valores superiores a la media, más dos veces la desviación estándar e inferiores a la media, menos dos veces la desviación estándar.\n",
        "\n"
      ]
    },
    {
      "cell_type": "markdown",
      "metadata": {
        "id": "1I69Q2sxvDUG"
      },
      "source": [
        "3. Crea una matriz NumPy de 100 filas por 5 columnas que conste de números enteros aleatorios del 1 al 100. (Ten en cuenta que en la parte superior, el límite puede ser exclusivo).\n",
        "\n",
        "Convertir esta matriz en dataframe y cambiar el nombre de las columnas por ['f1', 'f2', 'f3', 'f4', 'etiqueta'].\n",
        "\n",
        "En la columna etiqueta, cambiar cada número por su correspondiente posición en el alfabeto español. Por ejemplo, 25 vendría siendo la letra \"x\" (en un alfabeto incluyendo la \"ñ\"), si el número es mayor a 28 repetir el conteo de letras, ej: 35 sería la \"g\".\n",
        "\n",
        "Finalmente, crear una nueva columna que lleve de nombre las iniciales de tu nombre, donde el contenido de las filas sea la suma de las filas de las cuatro primeras columnas."
      ]
    },
    {
      "cell_type": "markdown",
      "metadata": {
        "id": "hLwbuHcOvDtG"
      },
      "source": [
        "4. De la base de datos Titanic (https://raw.githubusercontent.com/datasciencedojo/datasets/master/titanic.csv), con las columnas Género ('Sex'), Edad ('Age') y el valor del tiquete ('Fare'), responde las siguientes preguntas:\n",
        "\n",
        "* ¿Cuántos hombres y mujeres tenemos en nuestro dataset?\n",
        "* ¿Cuál es la edad más frecuente en nuestro conjunto de datos?\n",
        "* ¿Cuál es la edad más frecuente en las mujeres?\n",
        "* ¿Cuál es la edad más frecuente en los hombres?\n",
        "* ¿Cuál es el precio del tiquete más común?\n",
        "* ¿El precio del tiquete más común es el mismo para hombres y para mujeres?\n",
        "* ¿Cuánto pagan promedio hombres y mujeres por rango de edades? Proponer algunos rangos.\n",
        "\n"
      ]
    },
    {
      "cell_type": "markdown",
      "metadata": {
        "id": "PKuncyjDvEEe"
      },
      "source": [
        "5. De la base de datos de producción de leche mensual (https://raw.githubusercontent.com/plotly/datasets/master/monthly-milk-production-pounds.csv), realizar lo siguiente:\n",
        "\n",
        "* ¿Cuál es la producción de leche anual?\n",
        "* ¿Cuál es la producción de leche en los meses de enero, julio y diciembre?\n",
        "* Realizar un gráfico de la producción anual con su media."
      ]
    }
  ]
}